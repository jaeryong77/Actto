{
  "nbformat": 4,
  "nbformat_minor": 0,
  "metadata": {
    "colab": {
      "name": "Naver_copurs.ipynb",
      "provenance": [],
      "authorship_tag": "ABX9TyMuT1oGstptZeVlbdfnWcxe",
      "include_colab_link": true
    },
    "kernelspec": {
      "name": "python3",
      "display_name": "Python 3"
    }
  },
  "cells": [
    {
      "cell_type": "markdown",
      "metadata": {
        "id": "view-in-github",
        "colab_type": "text"
      },
      "source": [
        "<a href=\"https://colab.research.google.com/github/jaeryong77/Actto/blob/master/Naver_copurs.ipynb\" target=\"_parent\"><img src=\"https://colab.research.google.com/assets/colab-badge.svg\" alt=\"Open In Colab\"/></a>"
      ]
    },
    {
      "cell_type": "code",
      "metadata": {
        "id": "N7xxcDiVhRxF",
        "outputId": "20797cd2-8508-4a7c-a735-a92e9e37f485",
        "colab": {
          "base_uri": "https://localhost:8080/",
          "height": 125
        }
      },
      "source": [
        "!git clone https://github.com/e9t/nsmc.git"
      ],
      "execution_count": 1,
      "outputs": [
        {
          "output_type": "stream",
          "text": [
            "Cloning into 'nsmc'...\n",
            "remote: Enumerating objects: 14763, done.\u001b[K\n",
            "remote: Total 14763 (delta 0), reused 0 (delta 0), pack-reused 14763\u001b[K\n",
            "Receiving objects: 100% (14763/14763), 56.19 MiB | 18.83 MiB/s, done.\n",
            "Resolving deltas: 100% (1749/1749), done.\n",
            "Checking out files: 100% (14737/14737), done.\n"
          ],
          "name": "stdout"
        }
      ]
    },
    {
      "cell_type": "code",
      "metadata": {
        "id": "4lxhMKTKh8h0",
        "outputId": "e1ccba07-ebf4-41a6-cc81-ded01ddfe70b",
        "colab": {
          "base_uri": "https://localhost:8080/",
          "height": 71
        }
      },
      "source": [
        "ls -ltr"
      ],
      "execution_count": 2,
      "outputs": [
        {
          "output_type": "stream",
          "text": [
            "total 8\n",
            "drwxr-xr-x 1 root root 4096 Oct 14 16:31 \u001b[0m\u001b[01;34msample_data\u001b[0m/\n",
            "drwxr-xr-x 5 root root 4096 Oct 24 02:55 \u001b[01;34mnsmc\u001b[0m/\n"
          ],
          "name": "stdout"
        }
      ]
    },
    {
      "cell_type": "code",
      "metadata": {
        "id": "46FZSJH5iLaq",
        "outputId": "8225c684-63d4-4ca8-d332-c4edcc794b08",
        "colab": {
          "base_uri": "https://localhost:8080/",
          "height": 35
        }
      },
      "source": [
        "ls"
      ],
      "execution_count": 3,
      "outputs": [
        {
          "output_type": "stream",
          "text": [
            "\u001b[0m\u001b[01;34mnsmc\u001b[0m/  \u001b[01;34msample_data\u001b[0m/\n"
          ],
          "name": "stdout"
        }
      ]
    },
    {
      "cell_type": "code",
      "metadata": {
        "id": "1gnHN3Z0iP18",
        "outputId": "423d2bf4-b9d1-49a9-bc16-2aba019dd44f",
        "colab": {
          "base_uri": "https://localhost:8080/",
          "height": 35
        }
      },
      "source": [
        "cd nsmc/"
      ],
      "execution_count": 4,
      "outputs": [
        {
          "output_type": "stream",
          "text": [
            "/content/nsmc\n"
          ],
          "name": "stdout"
        }
      ]
    },
    {
      "cell_type": "code",
      "metadata": {
        "id": "Sy0VEm16iVWa",
        "outputId": "dadb4360-ed1e-40f9-a6f2-dc30cd90b479",
        "colab": {
          "base_uri": "https://localhost:8080/",
          "height": 53
        }
      },
      "source": [
        "ls"
      ],
      "execution_count": 5,
      "outputs": [
        {
          "output_type": "stream",
          "text": [
            "\u001b[0m\u001b[01;34mcode\u001b[0m/             ratings_train.txt  \u001b[01;34mraw\u001b[0m/       synopses.json\n",
            "ratings_test.txt  ratings.txt        README.md\n"
          ],
          "name": "stdout"
        }
      ]
    },
    {
      "cell_type": "code",
      "metadata": {
        "id": "F_1BQKYbiV_W",
        "outputId": "cb71d4bb-ac93-4932-dd3e-d7664575ebc3",
        "colab": {
          "base_uri": "https://localhost:8080/",
          "height": 35
        }
      },
      "source": [
        "cd code"
      ],
      "execution_count": 6,
      "outputs": [
        {
          "output_type": "stream",
          "text": [
            "/content/nsmc/code\n"
          ],
          "name": "stdout"
        }
      ]
    },
    {
      "cell_type": "code",
      "metadata": {
        "id": "V2yoR8r7iYu5",
        "outputId": "eb477917-9f2a-4b57-d382-717c617691c4",
        "colab": {
          "base_uri": "https://localhost:8080/",
          "height": 35
        }
      },
      "source": [
        "ls"
      ],
      "execution_count": 7,
      "outputs": [
        {
          "output_type": "stream",
          "text": [
            "crawl_ratings.py  partition.py\n"
          ],
          "name": "stdout"
        }
      ]
    },
    {
      "cell_type": "code",
      "metadata": {
        "id": "R_5V8WwHiZj3",
        "outputId": "2fb1d2c0-4038-4ad2-aeed-b488a937c8e7",
        "colab": {
          "base_uri": "https://localhost:8080/",
          "height": 89
        }
      },
      "source": [
        "!python crawl_ratings.py"
      ],
      "execution_count": 11,
      "outputs": [
        {
          "output_type": "stream",
          "text": [
            "Traceback (most recent call last):\n",
            "  File \"crawl_ratings.py\", line 16, in <module>\n",
            "    import utils\n",
            "ModuleNotFoundError: No module named 'utils'\n"
          ],
          "name": "stdout"
        }
      ]
    },
    {
      "cell_type": "code",
      "metadata": {
        "id": "J4nrq_fNim5K",
        "outputId": "24bf4dbf-e08b-4dae-8171-7ae4fcbbb932",
        "colab": {
          "base_uri": "https://localhost:8080/",
          "height": 89
        }
      },
      "source": [
        "!pip install utils"
      ],
      "execution_count": 12,
      "outputs": [
        {
          "output_type": "stream",
          "text": [
            "Collecting utils\n",
            "  Downloading https://files.pythonhosted.org/packages/55/e6/c2d2b2703e7debc8b501caae0e6f7ead148fd0faa3c8131292a599930029/utils-1.0.1-py2.py3-none-any.whl\n",
            "Installing collected packages: utils\n",
            "Successfully installed utils-1.0.1\n"
          ],
          "name": "stdout"
        }
      ]
    },
    {
      "cell_type": "code",
      "metadata": {
        "id": "ei3IM5v9jSfS",
        "outputId": "11191e4f-03e2-488d-b0de-9cbf1c83e7b1",
        "colab": {
          "base_uri": "https://localhost:8080/",
          "height": 343
        }
      },
      "source": [
        "!python crawl_ratings.py"
      ],
      "execution_count": 13,
      "outputs": [
        {
          "output_type": "stream",
          "text": [
            "129406 0\n",
            "list index out of range ['\\n\\t\\t', '17212664', '\\n\\t\\t\\t', '\\n\\t\\t\\t\\n\\t\\t\\t\\n\\t\\t\\t\\n\\t\\t\\t\\t', '미쓰 와이프', '\\n\\t\\t\\t\\n\\t\\t\\t\\n\\t\\t\\t', '\\n\\t\\t\\t\\t', '별점 - 총 10점 중', '10', '\\n\\t\\t\\t', '\\n\\t\\t\\t', '넘 잼따 시간 가는지 모름 \\n\\t\\t\\t\\n\\t\\t\\t\\n\\t\\t\\t\\n\\t\\t\\t\\t\\n\\t\\t\\t\\t\\n\\t\\t\\t\\t\\n\\t\\t\\t\\t', '신고', '\\n\\t\\t\\t\\n\\t\\t\\t\\n\\t\\t\\t', '\\n\\t\\t', 'l3co****', '20.10.23', '\\n\\t']\n",
            "list index out of range ['\\n\\t\\t', '17208643', '\\n\\t\\t\\t', '\\n\\t\\t\\t\\n\\t\\t\\t\\n\\t\\t\\t\\n\\t\\t\\t\\t', '미쓰 와이프', '\\n\\t\\t\\t\\n\\t\\t\\t\\n\\t\\t\\t', '\\n\\t\\t\\t\\t', '별점 - 총 10점 중', '10', '\\n\\t\\t\\t', '\\n\\t\\t\\t', '너무 재미있습니다집에서 봤는데 감동 했어요 \\n\\t\\t\\t\\n\\t\\t\\t\\n\\t\\t\\t\\n\\t\\t\\t\\t\\n\\t\\t\\t\\t\\n\\t\\t\\t\\t\\n\\t\\t\\t\\t', '신고', '\\n\\t\\t\\t\\n\\t\\t\\t\\n\\t\\t\\t', '\\n\\t\\t', 'reme****', '20.10.21', '\\n\\t']\n",
            "list index out of range ['\\n\\t\\t', '17208287', '\\n\\t\\t\\t', '\\n\\t\\t\\t\\n\\t\\t\\t\\n\\t\\t\\t\\n\\t\\t\\t\\t', '미쓰 와이프', '\\n\\t\\t\\t\\n\\t\\t\\t\\n\\t\\t\\t', '\\n\\t\\t\\t\\t', '별점 - 총 10점 중', '10', '\\n\\t\\t\\t', '\\n\\t\\t\\t', ' \\n\\t\\t\\t\\n\\t\\t\\t\\n\\t\\t\\t\\n\\t\\t\\t\\t\\n\\t\\t\\t\\t\\n\\t\\t\\t\\t\\n\\t\\t\\t\\t', '신고', '\\n\\t\\t\\t\\n\\t\\t\\t\\n\\t\\t\\t', '\\n\\t\\t', 'djk1****', '20.10.21', '\\n\\t']\n",
            "list index out of range ['\\n\\t\\t', '17206343', '\\n\\t\\t\\t', '\\n\\t\\t\\t\\n\\t\\t\\t\\n\\t\\t\\t\\n\\t\\t\\t\\t', '미쓰 와이프', '\\n\\t\\t\\t\\n\\t\\t\\t\\n\\t\\t\\t', '\\n\\t\\t\\t\\t', '별점 - 총 10점 중', '10', '\\n\\t\\t\\t', '\\n\\t\\t\\t', ' \\n\\t\\t\\t\\n\\t\\t\\t\\n\\t\\t\\t\\n\\t\\t\\t\\t\\n\\t\\t\\t\\t\\n\\t\\t\\t\\t\\n\\t\\t\\t\\t', '신고', '\\n\\t\\t\\t\\n\\t\\t\\t\\n\\t\\t\\t', '\\n\\t\\t', 'tict****', '20.10.19', '\\n\\t']\n",
            "list index out of range ['\\n\\t\\t', '17203634', '\\n\\t\\t\\t', '\\n\\t\\t\\t\\n\\t\\t\\t\\n\\t\\t\\t\\n\\t\\t\\t\\t', '미쓰 와이프', '\\n\\t\\t\\t\\n\\t\\t\\t\\n\\t\\t\\t', '\\n\\t\\t\\t\\t', '별점 - 총 10점 중', '10', '\\n\\t\\t\\t', '\\n\\t\\t\\t', '웃기고 재밌는 영화인줄 봤다가 여러 반전에 놀라고 감동받았습니다. 생각보다 너무 재밌게 봤고 엄정화씨 연기가 정말 감명깊었습니다. \\n\\t\\t\\t\\n\\t\\t\\t\\n\\t\\t\\t\\n\\t\\t\\t\\t\\n\\t\\t\\t\\t\\n\\t\\t\\t\\t\\n\\t\\t\\t\\t', '신고', '\\n\\t\\t\\t\\n\\t\\t\\t\\n\\t\\t\\t', '\\n\\t\\t', 'appl****', '20.10.18', '\\n\\t']\n",
            "list index out of range ['\\n\\t\\t', '17197491', '\\n\\t\\t\\t', '\\n\\t\\t\\t\\n\\t\\t\\t\\n\\t\\t\\t\\n\\t\\t\\t\\t', '미쓰 와이프', '\\n\\t\\t\\t\\n\\t\\t\\t\\n\\t\\t\\t', '\\n\\t\\t\\t\\t', '별점 - 총 10점 중', '10', '\\n\\t\\t\\t', '\\n\\t\\t\\t', '정말 재밌게봤어요..눈물났네요ㅠㅠ \\n\\t\\t\\t\\n\\t\\t\\t\\n\\t\\t\\t\\n\\t\\t\\t\\t\\n\\t\\t\\t\\t\\n\\t\\t\\t\\t\\n\\t\\t\\t\\t', '신고', '\\n\\t\\t\\t\\n\\t\\t\\t\\n\\t\\t\\t', '\\n\\t\\t', 'bini****', '20.10.13', '\\n\\t']\n",
            "list index out of range ['\\n\\t\\t', '17195207', '\\n\\t\\t\\t', '\\n\\t\\t\\t\\n\\t\\t\\t\\n\\t\\t\\t\\n\\t\\t\\t\\t', '미쓰 와이프', '\\n\\t\\t\\t\\n\\t\\t\\t\\n\\t\\t\\t', '\\n\\t\\t\\t\\t', '별점 - 총 10점 중', '8', '\\n\\t\\t\\t', '\\n\\t\\t\\t', '뻔한 스토리지만 아무 생각없이 보다 눈물 펑펑!! 가족의 소중함을 깨닫게한주네요. \\n\\t\\t\\t\\n\\t\\t\\t\\n\\t\\t\\t\\n\\t\\t\\t\\t\\n\\t\\t\\t\\t\\n\\t\\t\\t\\t\\n\\t\\t\\t\\t', '신고', '\\n\\t\\t\\t\\n\\t\\t\\t\\n\\t\\t\\t', '\\n\\t\\t', 'hy70****', '20.10.11', '\\n\\t']\n",
            "list index out of range ['\\n\\t\\t', '17194616', '\\n\\t\\t\\t', '\\n\\t\\t\\t\\n\\t\\t\\t\\n\\t\\t\\t\\n\\t\\t\\t\\t', '미쓰 와이프', '\\n\\t\\t\\t\\n\\t\\t\\t\\n\\t\\t\\t', '\\n\\t\\t\\t\\t', '별점 - 총 10점 중', '10', '\\n\\t\\t\\t', '\\n\\t\\t\\t', ' \\n\\t\\t\\t\\n\\t\\t\\t\\n\\t\\t\\t\\n\\t\\t\\t\\t\\n\\t\\t\\t\\t\\n\\t\\t\\t\\t\\n\\t\\t\\t\\t', '신고', '\\n\\t\\t\\t\\n\\t\\t\\t\\n\\t\\t\\t', '\\n\\t\\t', 'prom****', '20.10.11', '\\n\\t']\n",
            "list index out of range ['\\n\\t\\t', '17193580', '\\n\\t\\t\\t', '\\n\\t\\t\\t\\n\\t\\t\\t\\n\\t\\t\\t\\n\\t\\t\\t\\t', '미쓰 와이프', '\\n\\t\\t\\t\\n\\t\\t\\t\\n\\t\\t\\t', '\\n\\t\\t\\t\\t', '별점 - 총 10점 중', '10', '\\n\\t\\t\\t', '\\n\\t\\t\\t', '훈훈하고 시간가는줄 모르게 봤어요 ^^ \\n\\t\\t\\t\\n\\t\\t\\t\\n\\t\\t\\t\\n\\t\\t\\t\\t\\n\\t\\t\\t\\t\\n\\t\\t\\t\\t\\n\\t\\t\\t\\t', '신고', '\\n\\t\\t\\t\\n\\t\\t\\t\\n\\t\\t\\t', '\\n\\t\\t', 'hcw1****', '20.10.11', '\\n\\t']\n",
            "list index out of range ['\\n\\t\\t', '17192944', '\\n\\t\\t\\t', '\\n\\t\\t\\t\\n\\t\\t\\t\\n\\t\\t\\t\\n\\t\\t\\t\\t', '미쓰 와이프', '\\n\\t\\t\\t\\n\\t\\t\\t\\n\\t\\t\\t', '\\n\\t\\t\\t\\t', '별점 - 총 10점 중', '10', '\\n\\t\\t\\t', '\\n\\t\\t\\t', ' \\n\\t\\t\\t\\n\\t\\t\\t\\n\\t\\t\\t\\n\\t\\t\\t\\t\\n\\t\\t\\t\\t\\n\\t\\t\\t\\t\\n\\t\\t\\t\\t', '신고', '\\n\\t\\t\\t\\n\\t\\t\\t\\n\\t\\t\\t', '\\n\\t\\t', 'mj1k****', '20.10.10', '\\n\\t']\n",
            "Traceback (most recent call last):\n",
            "  File \"crawl_ratings.py\", line 132, in <module>\n",
            "    put_index(movie_id, total, INDEXFILE)\n",
            "  File \"crawl_ratings.py\", line 90, in put_index\n",
            "    utils.write_txt('%s,%s' % (movie_id, total), filename)\n",
            "AttributeError: module 'utils' has no attribute 'write_txt'\n"
          ],
          "name": "stdout"
        }
      ]
    },
    {
      "cell_type": "code",
      "metadata": {
        "id": "qRRCbnrdjXyo"
      },
      "source": [
        "!python partition.py"
      ],
      "execution_count": 14,
      "outputs": []
    },
    {
      "cell_type": "code",
      "metadata": {
        "id": "0dpB0nMDz2-Y"
      },
      "source": [
        ""
      ],
      "execution_count": null,
      "outputs": []
    }
  ]
}